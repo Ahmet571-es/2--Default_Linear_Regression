{
 "cells": [
  {
   "cell_type": "markdown",
   "id": "ab6d890f",
   "metadata": {},
   "source": []
  },
  {
   "cell_type": "markdown",
   "id": "fe138717",
   "metadata": {},
   "source": [
    "## Regression : \n",
    "\n",
    "#### Resudials : \n",
    "Bizim gerçek değerlerimiz ile tahminlerimiz arasında ki farklara denir. Tahminler büyükse çizginin üst kısmında kalır yani pozitif küçükse negatiftir. e = y - yi olarak ifade edilir. Patern çizgi üzerinde data verileri normal dağılım da değil ise linear regression da hatayı yüksek alırız. uygun değildir. Normal dağılıma ne kadar yakınsa o kadar iyi sonuçla alırız bu linear regression için geçerlidir. Dağılım üçgen şeklinde de olmayacak olursa o zaman logaritması alınmalı. \n",
    "\n",
    "### Eror Metricler : \n",
    "\n",
    "#### Mean absolute eror : \n",
    "|y - yi|.sum()/n formulu ile bulunur. gerçek değerlerden tahminler çıkarılır ama mutlak değeri alınarak sonra n eleman sayısına bölünür. bu şeklide elde edilen skordur. \n",
    "\n",
    "#### Mean Squared Error : \n",
    "((y - yi)**2).sum() / n formulu ile bulunur. hataların varyansı da denir. \n",
    "\n",
    "#### Root Mean Squared Error : \n",
    "(((y - yi)**2).sum() / n) ** 0.5 formulu ile bulunur. hatanın standart sapması da denir. Mean Squared Error kareködür. en çok kullanılan metricdir. o yüzden diğer metriclerden daha çok kullanılır. çünkü karekökü alınarak varyans değerini cezalandırır."
   ]
  },
  {
   "cell_type": "markdown",
   "id": "ecadd84f",
   "metadata": {},
   "source": [
    "## İmport Library : "
   ]
  },
  {
   "cell_type": "code",
   "execution_count": 1,
   "id": "4a160c79",
   "metadata": {},
   "outputs": [],
   "source": [
    "import numpy as np\n",
    "import pandas as pd\n",
    "import matplotlib.pyplot as plt\n",
    "import seaborn as sns\n",
    "import scipy.stats as sts\n",
    "plt.rcParams[\"figure.figsize\"] = (10,6) # tüm görsellerin aynı boyutta olması için sabitledik.\n",
    "import warnings\n",
    "warnings.filterwarnings(\"ignore\") # verilen uyarıları notebook getirmesin."
   ]
  },
  {
   "cell_type": "code",
   "execution_count": 2,
   "id": "573656bf",
   "metadata": {},
   "outputs": [
    {
     "data": {
      "text/html": [
       "<div>\n",
       "<style scoped>\n",
       "    .dataframe tbody tr th:only-of-type {\n",
       "        vertical-align: middle;\n",
       "    }\n",
       "\n",
       "    .dataframe tbody tr th {\n",
       "        vertical-align: top;\n",
       "    }\n",
       "\n",
       "    .dataframe thead th {\n",
       "        text-align: right;\n",
       "    }\n",
       "</style>\n",
       "<table border=\"1\" class=\"dataframe\">\n",
       "  <thead>\n",
       "    <tr style=\"text-align: right;\">\n",
       "      <th></th>\n",
       "      <th>TV</th>\n",
       "      <th>radio</th>\n",
       "      <th>newspaper</th>\n",
       "      <th>sales</th>\n",
       "    </tr>\n",
       "  </thead>\n",
       "  <tbody>\n",
       "    <tr>\n",
       "      <th>0</th>\n",
       "      <td>230.1</td>\n",
       "      <td>37.8</td>\n",
       "      <td>69.2</td>\n",
       "      <td>22.1</td>\n",
       "    </tr>\n",
       "    <tr>\n",
       "      <th>1</th>\n",
       "      <td>44.5</td>\n",
       "      <td>39.3</td>\n",
       "      <td>45.1</td>\n",
       "      <td>10.4</td>\n",
       "    </tr>\n",
       "    <tr>\n",
       "      <th>2</th>\n",
       "      <td>17.2</td>\n",
       "      <td>45.9</td>\n",
       "      <td>69.3</td>\n",
       "      <td>9.3</td>\n",
       "    </tr>\n",
       "    <tr>\n",
       "      <th>3</th>\n",
       "      <td>151.5</td>\n",
       "      <td>41.3</td>\n",
       "      <td>58.5</td>\n",
       "      <td>18.5</td>\n",
       "    </tr>\n",
       "    <tr>\n",
       "      <th>4</th>\n",
       "      <td>180.8</td>\n",
       "      <td>10.8</td>\n",
       "      <td>58.4</td>\n",
       "      <td>12.9</td>\n",
       "    </tr>\n",
       "  </tbody>\n",
       "</table>\n",
       "</div>"
      ],
      "text/plain": [
       "      TV  radio  newspaper  sales\n",
       "0  230.1   37.8       69.2   22.1\n",
       "1   44.5   39.3       45.1   10.4\n",
       "2   17.2   45.9       69.3    9.3\n",
       "3  151.5   41.3       58.5   18.5\n",
       "4  180.8   10.8       58.4   12.9"
      ]
     },
     "execution_count": 2,
     "metadata": {},
     "output_type": "execute_result"
    }
   ],
   "source": [
    "df = pd.read_csv(\"Advertising.csv\")\n",
    "df.head()"
   ]
  },
  {
   "cell_type": "code",
   "execution_count": 3,
   "id": "c3726011",
   "metadata": {},
   "outputs": [
    {
     "name": "stdout",
     "output_type": "stream",
     "text": [
      "<class 'pandas.core.frame.DataFrame'>\n",
      "RangeIndex: 200 entries, 0 to 199\n",
      "Data columns (total 4 columns):\n",
      " #   Column     Non-Null Count  Dtype  \n",
      "---  ------     --------------  -----  \n",
      " 0   TV         200 non-null    float64\n",
      " 1   radio      200 non-null    float64\n",
      " 2   newspaper  200 non-null    float64\n",
      " 3   sales      200 non-null    float64\n",
      "dtypes: float64(4)\n",
      "memory usage: 6.4 KB\n"
     ]
    }
   ],
   "source": [
    "df.info()\n",
    "# NaN değer yok ve tüm veri tipleri float"
   ]
  },
  {
   "cell_type": "code",
   "execution_count": 7,
   "id": "72c33fb6",
   "metadata": {},
   "outputs": [
    {
     "name": "stdout",
     "output_type": "stream",
     "text": [
      "TV tablosunda toplamda = 0  adet aykırı alt veri vardır.\n",
      "TV tablosunda toplamda = 0 adet aykırı üst veri vardır.\n",
      "radio tablosunda toplamda = 0  adet aykırı alt veri vardır.\n",
      "radio tablosunda toplamda = 0 adet aykırı üst veri vardır.\n",
      "newspaper tablosunda toplamda = 0  adet aykırı alt veri vardır.\n",
      "newspaper tablosunda toplamda = 2 adet aykırı üst veri vardır.\n"
     ]
    },
    {
     "data": {
      "image/png": "[encoded data removed]",
      "text/plain": [
       "<Figure size 1440x1440 with 3 Axes>"
      ]
     },
     "metadata": {
      "needs_background": "light"
     },
     "output_type": "display_data"
    }
   ],
   "source": [
    "# Tüm sutunlar için Outlier değerlere baktık.\n",
    "index = 0\n",
    "plt.figure(figsize=(20,20))\n",
    "for i in df.columns:\n",
    "    if i != \"sales\":\n",
    "        index += 1\n",
    "        plt.subplot(3,3,index)\n",
    "        sns.boxplot(df[i])\n",
    "        Q1 =df[i].quantile(0.25)\n",
    "        Q3 = df[i].quantile(0.75)\n",
    "        IQR = Q3-Q1\n",
    "        alt_sinir = Q1-(1.5*IQR)\n",
    "        ust_sinir = Q3+(1.5*IQR)\n",
    "        #print(f\"{i} sutununun alt sınır değeri = {alt_sinir}\")\n",
    "        #print(f\"{i} sutununun üst sınır değeri = {ust_sinir}\")\n",
    "        aykiri_alt = df[i] < alt_sinir\n",
    "        aykiri_ust = df[i] > ust_sinir\n",
    "        print(i, \"tablosunda toplamda =\", df[i][aykiri_alt].count(),\" adet aykırı alt veri vardır.\")\n",
    "        print(i, \"tablosunda toplamda =\",df[i][aykiri_ust].count(), \"adet aykırı üst veri vardır.\")"
   ]
  },
  {
   "cell_type": "code",
   "execution_count": 8,
   "id": "530f13e3",
   "metadata": {},
   "outputs": [
    {
     "data": {
      "image/png": "[encoded data removed]",
      "text/plain": [
       "<Figure size 720x432 with 1 Axes>"
      ]
     },
     "metadata": {
      "needs_background": "light"
     },
     "output_type": "display_data"
    }
   ],
   "source": [
    "df.corr()[\"sales\"].drop(\"sales\").sort_values().plot.barh();\n",
    "# sales targetimiz ile diğer futureler arasında ki korlasyon ilişkisi."
   ]
  },
  {
   "cell_type": "code",
   "execution_count": 10,
   "id": "918eafa0",
   "metadata": {},
   "outputs": [
    {
     "name": "stdout",
     "output_type": "stream",
     "text": [
      "sales ile TV sutunumuzun korelasyon durumu : 0.7822244248616061\n",
      "sales ile radio sutunumuzun korelasyon durumu : 0.5762225745710551\n",
      "sales ile newspaper sutunumuzun korelasyon durumu : 0.22829902637616528\n"
     ]
    }
   ],
   "source": [
    "for i in df.drop(columns = \"sales\") : \n",
    "    print(f\"sales ile {i} sutunumuzun korelasyon durumu : {df.sales.corr(df[i])}\")"
   ]
  },
  {
   "cell_type": "code",
   "execution_count": 11,
   "id": "98edede1",
   "metadata": {},
   "outputs": [
    {
     "data": {
      "text/html": [
       "<div>\n",
       "<style scoped>\n",
       "    .dataframe tbody tr th:only-of-type {\n",
       "        vertical-align: middle;\n",
       "    }\n",
       "\n",
       "    .dataframe tbody tr th {\n",
       "        vertical-align: top;\n",
       "    }\n",
       "\n",
       "    .dataframe thead th {\n",
       "        text-align: right;\n",
       "    }\n",
       "</style>\n",
       "<table border=\"1\" class=\"dataframe\">\n",
       "  <thead>\n",
       "    <tr style=\"text-align: right;\">\n",
       "      <th></th>\n",
       "      <th>TV</th>\n",
       "      <th>radio</th>\n",
       "      <th>newspaper</th>\n",
       "      <th>sales</th>\n",
       "    </tr>\n",
       "  </thead>\n",
       "  <tbody>\n",
       "    <tr>\n",
       "      <th>TV</th>\n",
       "      <td>1.000000</td>\n",
       "      <td>0.054809</td>\n",
       "      <td>0.056648</td>\n",
       "      <td>0.782224</td>\n",
       "    </tr>\n",
       "    <tr>\n",
       "      <th>radio</th>\n",
       "      <td>0.054809</td>\n",
       "      <td>1.000000</td>\n",
       "      <td>0.354104</td>\n",
       "      <td>0.576223</td>\n",
       "    </tr>\n",
       "    <tr>\n",
       "      <th>newspaper</th>\n",
       "      <td>0.056648</td>\n",
       "      <td>0.354104</td>\n",
       "      <td>1.000000</td>\n",
       "      <td>0.228299</td>\n",
       "    </tr>\n",
       "    <tr>\n",
       "      <th>sales</th>\n",
       "      <td>0.782224</td>\n",
       "      <td>0.576223</td>\n",
       "      <td>0.228299</td>\n",
       "      <td>1.000000</td>\n",
       "    </tr>\n",
       "  </tbody>\n",
       "</table>\n",
       "</div>"
      ],
      "text/plain": [
       "                 TV     radio  newspaper     sales\n",
       "TV         1.000000  0.054809   0.056648  0.782224\n",
       "radio      0.054809  1.000000   0.354104  0.576223\n",
       "newspaper  0.056648  0.354104   1.000000  0.228299\n",
       "sales      0.782224  0.576223   0.228299  1.000000"
      ]
     },
     "execution_count": 11,
     "metadata": {},
     "output_type": "execute_result"
    }
   ],
   "source": [
    "df.corr()\n",
    "# MultiColinearty var mı yok mu"
   ]
  },
  {
   "cell_type": "markdown",
   "id": "d43ced04",
   "metadata": {},
   "source": [
    "### Train Test Split : "
   ]
  },
  {
   "cell_type": "code",
   "execution_count": 12,
   "id": "eaac9c3a",
   "metadata": {},
   "outputs": [],
   "source": [
    "X = df.drop(\"sales\", axis=1) # future\n",
    "y = df[\"sales\"] # target"
   ]
  },
  {
   "cell_type": "code",
   "execution_count": 15,
   "id": "de596679",
   "metadata": {},
   "outputs": [],
   "source": [
    "from sklearn.model_selection import train_test_split"
   ]
  },
  {
   "cell_type": "code",
   "execution_count": 16,
   "id": "26b74472",
   "metadata": {},
   "outputs": [],
   "source": [
    "X_train, X_test, y_train, y_test = train_test_split(X, y, test_size = 0.25, random_state = 42)"
   ]
  },
  {
   "cell_type": "markdown",
   "id": "954bd887",
   "metadata": {},
   "source": [
    "### Default Linear Regression : "
   ]
  },
  {
   "cell_type": "code",
   "execution_count": 19,
   "id": "ee35f960",
   "metadata": {},
   "outputs": [],
   "source": [
    "from sklearn.linear_model import LinearRegression"
   ]
  },
  {
   "cell_type": "code",
   "execution_count": 23,
   "id": "48f22730",
   "metadata": {},
   "outputs": [],
   "source": [
    "model = LinearRegression()\n",
    "model.fit(X_train, y_train)\n",
    "y_pred = model.predict(X_test)"
   ]
  },
  {
   "cell_type": "markdown",
   "id": "5ca03881",
   "metadata": {},
   "source": [
    "### skor metricleri : "
   ]
  },
  {
   "cell_type": "code",
   "execution_count": 20,
   "id": "21ce7764",
   "metadata": {},
   "outputs": [],
   "source": [
    "from sklearn.metrics import mean_absolute_error, mean_squared_error, r2_score"
   ]
  },
  {
   "cell_type": "code",
   "execution_count": 22,
   "id": "c4afe4bb",
   "metadata": {},
   "outputs": [],
   "source": [
    "def eval_metric(actual, pred):\n",
    "    mae = mean_absolute_error(actual, pred)\n",
    "    mse = mean_squared_error(actual, pred)\n",
    "    rmse = np.sqrt(mean_squared_error(actual, pred))\n",
    "    R2_score = r2_score(actual, pred)\n",
    "    print(\"Model testing performance:\")\n",
    "    print(\"--------------------------\")\n",
    "    print(f\"R2_score \\t: {R2_score}\")\n",
    "    print(f\"MAE \\t\\t: {mae}\")\n",
    "    print(f\"MSE \\t\\t: {mse}\")\n",
    "    print(f\"RMSE \\t\\t: {rmse}\")"
   ]
  },
  {
   "cell_type": "markdown",
   "id": "65c5540b",
   "metadata": {},
   "source": [
    "### standart scale : "
   ]
  },
  {
   "cell_type": "code",
   "execution_count": 21,
   "id": "54a9ae15",
   "metadata": {},
   "outputs": [],
   "source": [
    "from sklearn.preprocessing import StandardScaler"
   ]
  },
  {
   "cell_type": "code",
   "execution_count": 25,
   "id": "26379139",
   "metadata": {},
   "outputs": [],
   "source": [
    "scaler = StandardScaler()\n",
    "X_train_scaler = scaler.fit_transform(X_train)\n",
    "X_test_scaler = scaler.transform(X_test)\n",
    "model2 = LinearRegression()\n",
    "model2.fit(X_train_scaler, y_train)\n",
    "y_pred2 = model2.predict(X_test_scaler)"
   ]
  },
  {
   "cell_type": "markdown",
   "id": "d82a819e",
   "metadata": {},
   "source": [
    "### skorlara bakma : "
   ]
  },
  {
   "cell_type": "code",
   "execution_count": 26,
   "id": "f07c8430",
   "metadata": {},
   "outputs": [
    {
     "name": "stdout",
     "output_type": "stream",
     "text": [
      "Model testing performance:\n",
      "--------------------------\n",
      "R2_score \t: 0.8935163320163657\n",
      "MAE \t\t: 1.4023124989385076\n",
      "MSE \t\t: 2.8800237300941944\n",
      "RMSE \t\t: 1.6970632663793634\n"
     ]
    }
   ],
   "source": [
    "eval_metric(y_test, y_pred)\n",
    "# scale etmeden %89 r2 skoru çıktı. doğru tahmin yapabilmek için doğru bilginin %89 ununa sahipim demektir. r2 scoru için."
   ]
  },
  {
   "cell_type": "code",
   "execution_count": 35,
   "id": "d27898d0",
   "metadata": {},
   "outputs": [
    {
     "data": {
      "text/plain": [
       "0.10000445704678249"
      ]
     },
     "execution_count": 35,
     "metadata": {},
     "output_type": "execute_result"
    }
   ],
   "source": [
    "mae1 = mean_absolute_error(y_test, y_pred)\n",
    "mae1 / df[\"sales\"].mean()\n",
    "# yüzde 10 luk hatalı tahmin oranımız var."
   ]
  },
  {
   "cell_type": "code",
   "execution_count": 27,
   "id": "93557411",
   "metadata": {},
   "outputs": [
    {
     "name": "stdout",
     "output_type": "stream",
     "text": [
      "Model testing performance:\n",
      "--------------------------\n",
      "R2_score \t: 0.8935163320163658\n",
      "MAE \t\t: 1.4023124989385065\n",
      "MSE \t\t: 2.880023730094192\n",
      "RMSE \t\t: 1.6970632663793628\n"
     ]
    }
   ],
   "source": [
    "eval_metric(y_test, y_pred2)\n",
    "# scale edince başarı oranımız. tüm skorlarımız aynı. \n",
    "# doğru tahmin yapabilmek için doğru bilginin %89 ununa sahipim demektir. r2 scoru için."
   ]
  },
  {
   "cell_type": "code",
   "execution_count": 36,
   "id": "42b7917a",
   "metadata": {},
   "outputs": [
    {
     "data": {
      "text/plain": [
       "0.1000044570467824"
      ]
     },
     "execution_count": 36,
     "metadata": {},
     "output_type": "execute_result"
    }
   ],
   "source": [
    "mae2 = mean_absolute_error(y_test, y_pred2)\n",
    "mae2 / df[\"sales\"].mean()\n",
    "# scale edilmiş değer için yüzde 10 luk hatalı tahmin oranımız var."
   ]
  },
  {
   "cell_type": "code",
   "execution_count": 28,
   "id": "5a8eccd0",
   "metadata": {},
   "outputs": [
    {
     "data": {
      "text/plain": [
       "array([13.99816723])"
      ]
     },
     "execution_count": 28,
     "metadata": {},
     "output_type": "execute_result"
    }
   ],
   "source": [
    "### model için scale edilmden TV için 75, radio için 40, newspaper için 60 tl reklam verip ortalama kazancımızı tahmin edelim\n",
    "model.predict([[75,40,60]])\n",
    "# 13 bin dolar civarı bir gelir ortalaması bulmuş."
   ]
  },
  {
   "cell_type": "code",
   "execution_count": 29,
   "id": "59b68c5a",
   "metadata": {},
   "outputs": [
    {
     "data": {
      "text/html": [
       "<div>\n",
       "<style scoped>\n",
       "    .dataframe tbody tr th:only-of-type {\n",
       "        vertical-align: middle;\n",
       "    }\n",
       "\n",
       "    .dataframe tbody tr th {\n",
       "        vertical-align: top;\n",
       "    }\n",
       "\n",
       "    .dataframe thead th {\n",
       "        text-align: right;\n",
       "    }\n",
       "</style>\n",
       "<table border=\"1\" class=\"dataframe\">\n",
       "  <thead>\n",
       "    <tr style=\"text-align: right;\">\n",
       "      <th></th>\n",
       "      <th>TV</th>\n",
       "      <th>radio</th>\n",
       "      <th>newspaper</th>\n",
       "      <th>sales</th>\n",
       "    </tr>\n",
       "  </thead>\n",
       "  <tbody>\n",
       "    <tr>\n",
       "      <th>0</th>\n",
       "      <td>230.1</td>\n",
       "      <td>37.8</td>\n",
       "      <td>69.2</td>\n",
       "      <td>22.1</td>\n",
       "    </tr>\n",
       "    <tr>\n",
       "      <th>1</th>\n",
       "      <td>44.5</td>\n",
       "      <td>39.3</td>\n",
       "      <td>45.1</td>\n",
       "      <td>10.4</td>\n",
       "    </tr>\n",
       "    <tr>\n",
       "      <th>2</th>\n",
       "      <td>17.2</td>\n",
       "      <td>45.9</td>\n",
       "      <td>69.3</td>\n",
       "      <td>9.3</td>\n",
       "    </tr>\n",
       "    <tr>\n",
       "      <th>3</th>\n",
       "      <td>151.5</td>\n",
       "      <td>41.3</td>\n",
       "      <td>58.5</td>\n",
       "      <td>18.5</td>\n",
       "    </tr>\n",
       "    <tr>\n",
       "      <th>4</th>\n",
       "      <td>180.8</td>\n",
       "      <td>10.8</td>\n",
       "      <td>58.4</td>\n",
       "      <td>12.9</td>\n",
       "    </tr>\n",
       "  </tbody>\n",
       "</table>\n",
       "</div>"
      ],
      "text/plain": [
       "      TV  radio  newspaper  sales\n",
       "0  230.1   37.8       69.2   22.1\n",
       "1   44.5   39.3       45.1   10.4\n",
       "2   17.2   45.9       69.3    9.3\n",
       "3  151.5   41.3       58.5   18.5\n",
       "4  180.8   10.8       58.4   12.9"
      ]
     },
     "execution_count": 29,
     "metadata": {},
     "output_type": "execute_result"
    }
   ],
   "source": [
    "df.head()"
   ]
  },
  {
   "cell_type": "code",
   "execution_count": 31,
   "id": "60634cbc",
   "metadata": {},
   "outputs": [
    {
     "data": {
      "text/plain": [
       "array([20.64733423])"
      ]
     },
     "execution_count": 31,
     "metadata": {},
     "output_type": "execute_result"
    }
   ],
   "source": [
    "# ilk satırı kontrol edelim : \n",
    "model.predict([[230.1,37.8, 69.2]])"
   ]
  },
  {
   "cell_type": "code",
   "execution_count": 32,
   "id": "509ec5df",
   "metadata": {},
   "outputs": [
    {
     "data": {
      "text/html": [
       "<div>\n",
       "<style scoped>\n",
       "    .dataframe tbody tr th:only-of-type {\n",
       "        vertical-align: middle;\n",
       "    }\n",
       "\n",
       "    .dataframe tbody tr th {\n",
       "        vertical-align: top;\n",
       "    }\n",
       "\n",
       "    .dataframe thead th {\n",
       "        text-align: right;\n",
       "    }\n",
       "</style>\n",
       "<table border=\"1\" class=\"dataframe\">\n",
       "  <thead>\n",
       "    <tr style=\"text-align: right;\">\n",
       "      <th></th>\n",
       "      <th>Actual</th>\n",
       "      <th>Pred</th>\n",
       "      <th>Resudial</th>\n",
       "    </tr>\n",
       "  </thead>\n",
       "  <tbody>\n",
       "    <tr>\n",
       "      <th>95</th>\n",
       "      <td>16.9</td>\n",
       "      <td>16.383482</td>\n",
       "      <td>0.516518</td>\n",
       "    </tr>\n",
       "    <tr>\n",
       "      <th>15</th>\n",
       "      <td>22.4</td>\n",
       "      <td>20.924350</td>\n",
       "      <td>1.475650</td>\n",
       "    </tr>\n",
       "    <tr>\n",
       "      <th>30</th>\n",
       "      <td>21.4</td>\n",
       "      <td>21.614954</td>\n",
       "      <td>-0.214954</td>\n",
       "    </tr>\n",
       "    <tr>\n",
       "      <th>158</th>\n",
       "      <td>7.3</td>\n",
       "      <td>10.490700</td>\n",
       "      <td>-3.190700</td>\n",
       "    </tr>\n",
       "    <tr>\n",
       "      <th>128</th>\n",
       "      <td>24.7</td>\n",
       "      <td>22.176905</td>\n",
       "      <td>2.523095</td>\n",
       "    </tr>\n",
       "  </tbody>\n",
       "</table>\n",
       "</div>"
      ],
      "text/plain": [
       "     Actual       Pred  Resudial\n",
       "95     16.9  16.383482  0.516518\n",
       "15     22.4  20.924350  1.475650\n",
       "30     21.4  21.614954 -0.214954\n",
       "158     7.3  10.490700 -3.190700\n",
       "128    24.7  22.176905  2.523095"
      ]
     },
     "execution_count": 32,
     "metadata": {},
     "output_type": "execute_result"
    }
   ],
   "source": [
    "# buda tüm tahminlerimizi görmek istersek.\n",
    "my_dict = {\"Actual\" : y_test, \"Pred\" : y_pred, \"Resudial\": y_test - y_pred}\n",
    "comparing = pd.DataFrame(my_dict)\n",
    "comparing.head()"
   ]
  },
  {
   "cell_type": "code",
   "execution_count": 34,
   "id": "6b14ccb0",
   "metadata": {},
   "outputs": [
    {
     "data": {
      "image/png": "[encoded data removed]",
      "text/plain": [
       "<Figure size 1008x648 with 1 Axes>"
      ]
     },
     "metadata": {
      "needs_background": "light"
     },
     "output_type": "display_data"
    }
   ],
   "source": [
    "comparing.head(25).plot(kind = \"bar\", figsize=(14,9))\n",
    "plt.show()\n",
    "# ilk 25 değer için tahmin ve resudials arasında ki ilişkiyi grafiksel olarak göster dedik."
   ]
  },
  {
   "cell_type": "markdown",
   "id": "c3c73e6e",
   "metadata": {},
   "source": [
    "#### Future sayımız arttıkça r2 skorumuz artar.  bunu engellemek adına yazılan bir fonksiyon : \n",
    "\n",
    "Gözlem sayısını arttırmadan future sayısı artarsa datada yalancı bir iyileşme yaşanacaktır."
   ]
  },
  {
   "cell_type": "code",
   "execution_count": 37,
   "id": "dc6cfb3a",
   "metadata": {},
   "outputs": [],
   "source": [
    "def adj_r2(y_test, y_pred, df):\n",
    "    r2 = r2_score(y_test, y_pred)\n",
    "    n = df.shape[0] # datamızdaki gözlem sayımız\n",
    "    p = df.shape[1] - 1 # tüm değişkenlerin sayısı - target sutunu = bağımsız değişken sayımız\n",
    "    adj_r2 = 1 - (1-r2)*(n-1)/(n-p-1) # yeni bir future ekliyorsak yeni gözlemde eklemek gerekir. \n",
    "    return adj_r2\n",
    "# dummy future eklediğimiz zaman r2 skoru artar. bu fonksiyon bunu engellemek için. "
   ]
  },
  {
   "cell_type": "code",
   "execution_count": 38,
   "id": "24018661",
   "metadata": {},
   "outputs": [
    {
     "data": {
      "text/plain": [
       "0.8918864799553917"
      ]
     },
     "execution_count": 38,
     "metadata": {},
     "output_type": "execute_result"
    }
   ],
   "source": [
    "adj_r2(y_test, y_pred, df)\n",
    "# burda yeni bir future eklemediğimiz için aynı r2 skoru verdi."
   ]
  },
  {
   "cell_type": "markdown",
   "id": "66b8c663",
   "metadata": {},
   "source": [
    "### Overfitting Kontrol : "
   ]
  },
  {
   "cell_type": "code",
   "execution_count": 39,
   "id": "ee38720d",
   "metadata": {},
   "outputs": [
    {
     "name": "stdout",
     "output_type": "stream",
     "text": [
      "Model testing performance:\n",
      "--------------------------\n",
      "R2_score \t: 0.8966445527601498\n",
      "MAE \t\t: 1.2156188847355553\n",
      "MSE \t\t: 2.767891078046973\n",
      "RMSE \t\t: 1.6636980128758263\n"
     ]
    }
   ],
   "source": [
    "y_pred_train = model.predict(X_train)\n",
    "eval_metric(y_train, y_pred_train)"
   ]
  },
  {
   "cell_type": "code",
   "execution_count": 40,
   "id": "e25b8f12",
   "metadata": {},
   "outputs": [
    {
     "name": "stdout",
     "output_type": "stream",
     "text": [
      "Model testing performance:\n",
      "--------------------------\n",
      "R2_score \t: 0.8935163320163657\n",
      "MAE \t\t: 1.4023124989385076\n",
      "MSE \t\t: 2.8800237300941944\n",
      "RMSE \t\t: 1.6970632663793634\n"
     ]
    }
   ],
   "source": [
    "eval_metric(y_test, y_pred)"
   ]
  },
  {
   "cell_type": "code",
   "execution_count": 41,
   "id": "26886b41",
   "metadata": {},
   "outputs": [],
   "source": [
    "# Kesinlikle Overfitting durumu yok skorlar dengeli."
   ]
  },
  {
   "cell_type": "markdown",
   "id": "5e7a783b",
   "metadata": {},
   "source": [
    "### Grafikler ile Linear regresyona uygun mu : \n",
    "Normal Dağılım var mı veya yakın mı"
   ]
  },
  {
   "cell_type": "code",
   "execution_count": 48,
   "id": "ca37a098",
   "metadata": {},
   "outputs": [
    {
     "data": {
      "image/png": "[encoded data removed]",
      "text/plain": [
       "<Figure size 720x432 with 1 Axes>"
      ]
     },
     "metadata": {
      "needs_background": "light"
     },
     "output_type": "display_data"
    }
   ],
   "source": [
    "sns.kdeplot(x = comparing[\"Resudial\"]);\n",
    "# tahmin edilen değerlerin gerçek değerlerden genel olarak daha küçük olduğu yani genel itibariyle negatif olduğu görüldü."
   ]
  },
  {
   "cell_type": "code",
   "execution_count": 50,
   "id": "7eb5094d",
   "metadata": {},
   "outputs": [
    {
     "data": {
      "image/png": "[encoded data removed]",
      "text/plain": [
       "<Figure size 720x432 with 1 Axes>"
      ]
     },
     "metadata": {
      "needs_background": "light"
     },
     "output_type": "display_data"
    }
   ],
   "source": [
    "sts.probplot(comparing[\"Resudial\"], dist=\"norm\", plot=plt);\n",
    "# buda farkların normal dağılıma yakın mı değil mi ona bakmak için stats içinde bulunan grafik kütüphanemiz.\n",
    "# noktaların çizgiyi sarmaşık gibi sardığı görülmekte normal dağılıma yakın linear regressiona uygun diyebilriz."
   ]
  },
  {
   "cell_type": "code",
   "execution_count": 51,
   "id": "bd977925",
   "metadata": {},
   "outputs": [
    {
     "data": {
      "text/plain": [
       "-0.6524764477931668"
      ]
     },
     "execution_count": 51,
     "metadata": {},
     "output_type": "execute_result"
    }
   ],
   "source": [
    "sts.skew(comparing[\"Resudial\"])\n",
    "# zaten yukarıda kdeplot ile bakmıştık. hafif sola çarpık çıktı. "
   ]
  },
  {
   "cell_type": "code",
   "execution_count": 53,
   "id": "6cb47177",
   "metadata": {},
   "outputs": [
    {
     "data": {
      "image/png": "[encoded data removed]",
      "text/plain": [
       "<Figure size 576x396 with 2 Axes>"
      ]
     },
     "metadata": {},
     "output_type": "display_data"
    }
   ],
   "source": [
    "from yellowbrick.regressor import ResidualsPlot # gerçek değer ve tahmin arasında ki farklara bakmak için \n",
    "\n",
    "model = LinearRegression() # modeli sıfırladık.\n",
    "visualizer = ResidualsPlot(model) # sonra modeli ResidualsPlot içine ekledik.\n",
    "visualizer.fit(X_train, y_train) # train setini fit ettik\n",
    "visualizer.score(X_test, y_test) # tüm test setinin skorunu aldık.\n",
    "visualizer.show();\n",
    "\n",
    "# train ve test seti için r2 scorlarımız tutarlı, normal dağılıma yakın."
   ]
  },
  {
   "cell_type": "code",
   "execution_count": 54,
   "id": "80540d5d",
   "metadata": {},
   "outputs": [
    {
     "data": {
      "image/png": "[encoded data removed]",
      "text/plain": [
       "<Figure size 576x396 with 1 Axes>"
      ]
     },
     "metadata": {},
     "output_type": "display_data"
    }
   ],
   "source": [
    "# yapılan tahminlerin hatalarını gösterelim\n",
    "from yellowbrick.regressor import PredictionError\n",
    "\n",
    "model = LinearRegression()\n",
    "visualizer = PredictionError(model)\n",
    "visualizer.fit(X_train, y_train)\n",
    "visualizer.score(X_test, y_test)\n",
    "visualizer.show();\n",
    "# açık çizgiler tahminlerin doğru oldu yeri gösterir. yani koyu çizgi ve açık çizgi ne kadar üst üste binmişse o kadar güzel\n",
    "# tahminleme yaptık demektir."
   ]
  },
  {
   "cell_type": "code",
   "execution_count": 58,
   "id": "8f7e5748",
   "metadata": {},
   "outputs": [],
   "source": [
    "final_model = LinearRegression()\n",
    "final_model.fit(X, y)\n",
    "y_pred = final_model.predict(X)"
   ]
  },
  {
   "cell_type": "code",
   "execution_count": 59,
   "id": "50bc33bb",
   "metadata": {},
   "outputs": [
    {
     "name": "stdout",
     "output_type": "stream",
     "text": [
      "Model testing performance:\n",
      "--------------------------\n",
      "R2_score \t: 0.8972106381789521\n",
      "MAE \t\t: 1.2520112296870682\n",
      "MSE \t\t: 2.7841263145109365\n",
      "RMSE \t\t: 1.66857014072257\n"
     ]
    }
   ],
   "source": [
    "eval_metric(y, y_pred)\n",
    "# tüm data için başarımız %90 civarı r2 skorumuz. eldeki futureler tahmin için %90 oranında yeterli demektir."
   ]
  },
  {
   "cell_type": "code",
   "execution_count": null,
   "id": "b1c770d2",
   "metadata": {},
   "outputs": [],
   "source": []
  }
 ],
 "metadata": {
  "kernelspec": {
   "display_name": "Python 3 (ipykernel)",
   "language": "python",
   "name": "python3"
  },
  "language_info": {
   "codemirror_mode": {
    "name": "ipython",
    "version": 3
   },
   "file_extension": ".py",
   "mimetype": "text/x-python",
   "name": "python",
   "nbconvert_exporter": "python",
   "pygments_lexer": "ipython3",
   "version": "3.9.7"
  }
 },
 "nbformat": 4,
 "nbformat_minor": 5
}
